{
  "nbformat": 4,
  "nbformat_minor": 0,
  "metadata": {
    "colab": {
      "name": "AI Virtual Assistant",
      "provenance": [],
      "collapsed_sections": [],
      "authorship_tag": "ABX9TyPwA6d0JG7XgIM8zfM+MG97",
      "include_colab_link": true
    },
    "kernelspec": {
      "name": "python3",
      "display_name": "Python 3"
    }
  },
  "cells": [
    {
      "cell_type": "markdown",
      "metadata": {
        "id": "view-in-github",
        "colab_type": "text"
      },
      "source": [
        "<a href=\"https://colab.research.google.com/github/paul-omits/AI-Virtual-Assistant/blob/master/AI_Virtual_Assistant.ipynb\" target=\"_parent\"><img src=\"https://colab.research.google.com/assets/colab-badge.svg\" alt=\"Open In Colab\"/></a>"
      ]
    },
    {
      "cell_type": "code",
      "metadata": {
        "id": "QD7II-IEOrlL",
        "outputId": "dec62e5e-5c93-4d03-b13a-81f8cd13274a",
        "colab": {
          "base_uri": "https://localhost:8080/",
          "height": 936
        }
      },
      "source": [
        "pip install JarvisAI"
      ],
      "execution_count": null,
      "outputs": [
        {
          "output_type": "stream",
          "text": [
            "Collecting JarvisAI\n",
            "  Downloading https://files.pythonhosted.org/packages/e9/20/7f16e12007a927cd5da207e6d0ed217bf9654c74a095b55a84424eef277a/JarvisAI-0.1.8-py3-none-any.whl\n",
            "Collecting gtts\n",
            "  Downloading https://files.pythonhosted.org/packages/a1/0c/4ca77eca3b739a4a08360930643f58d714e302fee0d2f8c654e67d9af8e7/gTTS-2.1.1-py3-none-any.whl\n",
            "Requirement already satisfied: beautifulsoup4 in /usr/local/lib/python3.6/dist-packages (from JarvisAI) (4.6.3)\n",
            "Collecting wikipedia\n",
            "  Downloading https://files.pythonhosted.org/packages/67/35/25e68fbc99e672127cc6fbb14b8ec1ba3dfef035bf1e4c90f78f24a80b7d/wikipedia-1.4.0.tar.gz\n",
            "Requirement already satisfied: lxml in /usr/local/lib/python3.6/dist-packages (from JarvisAI) (4.2.6)\n",
            "Collecting playsound\n",
            "  Downloading https://files.pythonhosted.org/packages/f5/16/10d897b0a83fb4b05b03a63d7a2667ab75f857f67f7062fd447dd3f49bf7/playsound-1.2.2-py2.py3-none-any.whl\n",
            "Collecting pipwin\n",
            "  Downloading https://files.pythonhosted.org/packages/08/0f/a7df1770d2dcf99898aee562d6ce866e5dc78a5ccbf4ff25231ece4c99e8/pipwin-0.5.0-py2.py3-none-any.whl\n",
            "Collecting SpeechRecognition\n",
            "\u001b[?25l  Downloading https://files.pythonhosted.org/packages/26/e1/7f5678cd94ec1234269d23756dbdaa4c8cfaed973412f88ae8adf7893a50/SpeechRecognition-3.8.1-py2.py3-none-any.whl (32.8MB)\n",
            "\u001b[K     |████████████████████████████████| 32.8MB 111kB/s \n",
            "\u001b[?25hRequirement already satisfied: six in /usr/local/lib/python3.6/dist-packages (from gtts->JarvisAI) (1.15.0)\n",
            "Requirement already satisfied: requests in /usr/local/lib/python3.6/dist-packages (from gtts->JarvisAI) (2.23.0)\n",
            "Requirement already satisfied: click in /usr/local/lib/python3.6/dist-packages (from gtts->JarvisAI) (7.1.2)\n",
            "Collecting gtts-token>=1.1.3\n",
            "  Downloading https://files.pythonhosted.org/packages/e7/25/ca6e9cd3275bfc3097fe6b06cc31db6d3dfaf32e032e0f73fead9c9a03ce/gTTS-token-1.1.3.tar.gz\n",
            "Collecting js2py\n",
            "\u001b[?25l  Downloading https://files.pythonhosted.org/packages/f4/6a/0385641ad1b52aae5c63820277a10e500c19e40fc4df5287f161aa287020/Js2Py-0.70-py3-none-any.whl (605kB)\n",
            "\u001b[K     |████████████████████████████████| 614kB 42.0MB/s \n",
            "\u001b[?25hCollecting pyprind\n",
            "  Downloading https://files.pythonhosted.org/packages/1e/30/e76fb0c45da8aef49ea8d2a90d4e7a6877b45894c25f12fb961f009a891e/PyPrind-2.11.2-py3-none-any.whl\n",
            "Collecting pySmartDL>=1.3.1; python_version >= \"3.4\"\n",
            "  Downloading https://files.pythonhosted.org/packages/ac/6a/582286ea74c54363cba30413214767904f0a239e12253c3817feaf78453f/pySmartDL-1.3.4-py3-none-any.whl\n",
            "Requirement already satisfied: docopt in /usr/local/lib/python3.6/dist-packages (from pipwin->JarvisAI) (0.6.2)\n",
            "Requirement already satisfied: packaging in /usr/local/lib/python3.6/dist-packages (from pipwin->JarvisAI) (20.4)\n",
            "Requirement already satisfied: urllib3!=1.25.0,!=1.25.1,<1.26,>=1.21.1 in /usr/local/lib/python3.6/dist-packages (from requests->gtts->JarvisAI) (1.24.3)\n",
            "Requirement already satisfied: certifi>=2017.4.17 in /usr/local/lib/python3.6/dist-packages (from requests->gtts->JarvisAI) (2020.6.20)\n",
            "Requirement already satisfied: idna<3,>=2.5 in /usr/local/lib/python3.6/dist-packages (from requests->gtts->JarvisAI) (2.10)\n",
            "Requirement already satisfied: chardet<4,>=3.0.2 in /usr/local/lib/python3.6/dist-packages (from requests->gtts->JarvisAI) (3.0.4)\n",
            "Requirement already satisfied: tzlocal>=1.2 in /usr/local/lib/python3.6/dist-packages (from js2py->pipwin->JarvisAI) (1.5.1)\n",
            "Collecting pyjsparser>=2.5.1\n",
            "  Downloading https://files.pythonhosted.org/packages/48/ef/c72abcfa2c6accd03e7c89c400790fc3d908c5804d50a7c4e9ceabd74d23/pyjsparser-2.7.1.tar.gz\n",
            "Requirement already satisfied: pyparsing>=2.0.2 in /usr/local/lib/python3.6/dist-packages (from packaging->pipwin->JarvisAI) (2.4.7)\n",
            "Requirement already satisfied: pytz in /usr/local/lib/python3.6/dist-packages (from tzlocal>=1.2->js2py->pipwin->JarvisAI) (2018.9)\n",
            "Building wheels for collected packages: wikipedia, gtts-token, pyjsparser\n",
            "  Building wheel for wikipedia (setup.py) ... \u001b[?25l\u001b[?25hdone\n",
            "  Created wheel for wikipedia: filename=wikipedia-1.4.0-cp36-none-any.whl size=11686 sha256=d28fa2829e500c4ff2a1ddb90169991b86611e2ea02f3af7eb6a84b4fc05b4c4\n",
            "  Stored in directory: /root/.cache/pip/wheels/87/2a/18/4e471fd96d12114d16fe4a446d00c3b38fb9efcb744bd31f4a\n",
            "  Building wheel for gtts-token (setup.py) ... \u001b[?25l\u001b[?25hdone\n",
            "  Created wheel for gtts-token: filename=gTTS_token-1.1.3-cp36-none-any.whl size=4096 sha256=b0715d123d15ebb4116eecd29b238e15b066e38ed5387934f9965210a44302b5\n",
            "  Stored in directory: /root/.cache/pip/wheels/dd/11/61/33f7e51bf545e910552b2255eead2a7cd8ef54064b46dceb34\n",
            "  Building wheel for pyjsparser (setup.py) ... \u001b[?25l\u001b[?25hdone\n",
            "  Created wheel for pyjsparser: filename=pyjsparser-2.7.1-cp36-none-any.whl size=26001 sha256=c21177b007cd3eba2ab301d7a7db8ecbe50dec1d7e0c0d294bc49cd7745cba30\n",
            "  Stored in directory: /root/.cache/pip/wheels/a2/73/e6/3e433f3fd78257c3f971baf8cc9001cc0c4797268c61751e89\n",
            "Successfully built wikipedia gtts-token pyjsparser\n",
            "\u001b[31mERROR: pipwin 0.5.0 has requirement beautifulsoup4>=4.9.0, but you'll have beautifulsoup4 4.6.3 which is incompatible.\u001b[0m\n",
            "Installing collected packages: gtts-token, gtts, wikipedia, playsound, pyjsparser, js2py, pyprind, pySmartDL, pipwin, SpeechRecognition, JarvisAI\n",
            "Successfully installed JarvisAI-0.1.8 SpeechRecognition-3.8.1 gtts-2.1.1 gtts-token-1.1.3 js2py-0.70 pipwin-0.5.0 playsound-1.2.2 pySmartDL-1.3.4 pyjsparser-2.7.1 pyprind-2.11.2 wikipedia-1.4.0\n"
          ],
          "name": "stdout"
        }
      ]
    },
    {
      "cell_type": "code",
      "metadata": {
        "id": "LWN1tEVjX3TS"
      },
      "source": [
        ""
      ],
      "execution_count": null,
      "outputs": []
    },
    {
      "cell_type": "code",
      "metadata": {
        "id": "39tAv77MSDxf",
        "outputId": "9dc02950-a5bb-4ea4-f801-fd9dc09b471f",
        "colab": {
          "base_uri": "https://localhost:8080/",
          "height": 210
        }
      },
      "source": [
        "pip install PyAudio"
      ],
      "execution_count": null,
      "outputs": [
        {
          "output_type": "stream",
          "text": [
            "Collecting PyAudio\n",
            "  Using cached https://files.pythonhosted.org/packages/ab/42/b4f04721c5c5bfc196ce156b3c768998ef8c0ae3654ed29ea5020c749a6b/PyAudio-0.2.11.tar.gz\n",
            "Building wheels for collected packages: PyAudio\n",
            "  Building wheel for PyAudio (setup.py) ... \u001b[?25lerror\n",
            "\u001b[31m  ERROR: Failed building wheel for PyAudio\u001b[0m\n",
            "\u001b[?25h  Running setup.py clean for PyAudio\n",
            "Failed to build PyAudio\n",
            "Installing collected packages: PyAudio\n",
            "    Running setup.py install for PyAudio ... \u001b[?25l\u001b[?25herror\n",
            "\u001b[31mERROR: Command errored out with exit status 1: /usr/bin/python3 -u -c 'import sys, setuptools, tokenize; sys.argv[0] = '\"'\"'/tmp/pip-install-5d8l0yiu/PyAudio/setup.py'\"'\"'; __file__='\"'\"'/tmp/pip-install-5d8l0yiu/PyAudio/setup.py'\"'\"';f=getattr(tokenize, '\"'\"'open'\"'\"', open)(__file__);code=f.read().replace('\"'\"'\\r\\n'\"'\"', '\"'\"'\\n'\"'\"');f.close();exec(compile(code, __file__, '\"'\"'exec'\"'\"'))' install --record /tmp/pip-record-_i38v8ss/install-record.txt --single-version-externally-managed --compile Check the logs for full command output.\u001b[0m\n"
          ],
          "name": "stdout"
        }
      ]
    },
    {
      "cell_type": "code",
      "metadata": {
        "id": "7HtUCZYrPJ3m"
      },
      "source": [
        "import JarvisAI\n",
        "import re\n",
        "import pprint\n",
        "import random\n",
        "\n",
        "#response = obj.tell_me_date()\n",
        "#print(response)"
      ],
      "execution_count": null,
      "outputs": []
    },
    {
      "cell_type": "code",
      "metadata": {
        "id": "QmsjtbHXP5f2"
      },
      "source": [
        "obj = JarvisAI.JarvisAssistant()"
      ],
      "execution_count": null,
      "outputs": []
    },
    {
      "cell_type": "code",
      "metadata": {
        "id": "AKbzR4Z5Rl8G"
      },
      "source": [
        "def t2s(text):\n",
        "    obj.text2speech(text)"
      ],
      "execution_count": null,
      "outputs": []
    },
    {
      "cell_type": "code",
      "metadata": {
        "id": "wxPuw0jJSKe1"
      },
      "source": [
        ""
      ],
      "execution_count": null,
      "outputs": []
    }
  ]
}